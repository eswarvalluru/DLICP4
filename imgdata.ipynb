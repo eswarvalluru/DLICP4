{
  "nbformat": 4,
  "nbformat_minor": 0,
  "metadata": {
    "colab": {
      "name": "imgpick.ipynb",
      "provenance": [],
      "machine_shape": "hm"
    },
    "kernelspec": {
      "name": "python3",
      "display_name": "Python 3"
    },
    "accelerator": "GPU"
  },
  "cells": [
    {
      "cell_type": "code",
      "metadata": {
        "id": "-xOVM7kFq0uL",
        "colab_type": "code",
        "outputId": "ccc3fe96-d921-42e7-8da8-a59fba5dd8b8",
        "colab": {
          "base_uri": "https://localhost:8080/",
          "height": 136
        }
      },
      "source": [
        "%tensorflow_version 1.15\n",
        "import tensorflow as tf\n",
        "from keras import Sequential\n",
        "from keras.datasets import mnist\n",
        "import numpy as np\n",
        "from keras.layers import Dense\n",
        "from keras.utils import to_categorical\n",
        "from keras.preprocessing.image import ImageDataGenerator, load_img\n",
        "import os\n",
        "import matplotlib.pyplot as plt\n",
        "from keras.layers import Dense, Flatten, Dropout, Input, BatchNormalization\n",
        "from keras.constraints import maxnorm\n",
        "from keras.models import Model\n",
        "from keras.optimizers import SGD, Adam\n",
        "from keras.layers.convolutional import Conv2D, MaxPooling2D\n",
        "from keras.utils import np_utils\n",
        "from keras import backend as K\n",
        "K.common.image_dim_ordering()"
      ],
      "execution_count": 0,
      "outputs": [
        {
          "output_type": "stream",
          "text": [
            "`%tensorflow_version` only switches the major version: 1.x or 2.x.\n",
            "You set: `1.15`. This will be interpreted as: `1.x`.\n",
            "\n",
            "\n",
            "TensorFlow 1.x selected.\n"
          ],
          "name": "stdout"
        },
        {
          "output_type": "stream",
          "text": [
            "Using TensorFlow backend.\n"
          ],
          "name": "stderr"
        },
        {
          "output_type": "execute_result",
          "data": {
            "text/plain": [
              "'tf'"
            ]
          },
          "metadata": {
            "tags": []
          },
          "execution_count": 1
        }
      ]
    },
    {
      "cell_type": "code",
      "metadata": {
        "id": "zEHhM7rq9vDb",
        "colab_type": "code",
        "outputId": "29e698ce-9487-467a-ac50-d80d86330288",
        "colab": {
          "base_uri": "https://localhost:8080/",
          "height": 122
        }
      },
      "source": [
        "from google.colab import drive\n",
        "drive.mount('/content/drive')"
      ],
      "execution_count": 0,
      "outputs": [
        {
          "output_type": "stream",
          "text": [
            "Go to this URL in a browser: https://accounts.google.com/o/oauth2/auth?client_id=947318989803-6bn6qk8qdgf4n4g3pfee6491hc0brc4i.apps.googleusercontent.com&redirect_uri=urn%3aietf%3awg%3aoauth%3a2.0%3aoob&response_type=code&scope=email%20https%3a%2f%2fwww.googleapis.com%2fauth%2fdocs.test%20https%3a%2f%2fwww.googleapis.com%2fauth%2fdrive%20https%3a%2f%2fwww.googleapis.com%2fauth%2fdrive.photos.readonly%20https%3a%2f%2fwww.googleapis.com%2fauth%2fpeopleapi.readonly\n",
            "\n",
            "Enter your authorization code:\n",
            "··········\n",
            "Mounted at /content/drive\n"
          ],
          "name": "stdout"
        }
      ]
    },
    {
      "cell_type": "code",
      "metadata": {
        "id": "VWbKDaXmts2p",
        "colab_type": "code",
        "colab": {}
      },
      "source": [
        "from PIL import Image\n",
        "import glob\n",
        "import cv2\n",
        "train_images=[]\n",
        "for filename in glob.glob('/content/drive/My Drive/Colab Notebooks/parrot/*.jpg'):\n",
        "    img_normal = cv2.imread(filename)\n",
        "    output = cv2.resize(img_normal, (50,50))\n",
        "    train_images.append([output,0])"
      ],
      "execution_count": 0,
      "outputs": []
    },
    {
      "cell_type": "code",
      "metadata": {
        "id": "2WpHZ8nKxobx",
        "colab_type": "code",
        "colab": {}
      },
      "source": [
        "from PIL import Image\n",
        "import glob\n",
        "import cv2\n",
        "for filename in glob.glob('/content/drive/My Drive/Colab Notebooks/rabbit/*.jpg'):\n",
        "    img_normal = cv2.imread(filename)\n",
        "    output = cv2.resize(img_normal,(50,50))\n",
        "    train_images.append([output,1])"
      ],
      "execution_count": 0,
      "outputs": []
    },
    {
      "cell_type": "code",
      "metadata": {
        "id": "UNVAufGmzy5r",
        "colab_type": "code",
        "colab": {}
      },
      "source": [
        "import random\n",
        "random.shuffle(train_images)"
      ],
      "execution_count": 0,
      "outputs": []
    },
    {
      "cell_type": "code",
      "metadata": {
        "id": "I4DZ9Lvx0LuS",
        "colab_type": "code",
        "colab": {}
      },
      "source": [
        "x_train=[]\n",
        "y_train=[]\n",
        "for im,label in train_images:\n",
        "  x_train.append(im)\n",
        "  y_train.append(label)"
      ],
      "execution_count": 0,
      "outputs": []
    },
    {
      "cell_type": "code",
      "metadata": {
        "id": "s2wlT_vg1xKD",
        "colab_type": "code",
        "colab": {}
      },
      "source": [
        "x_train=np.array(x_train).reshape(-1,50,50,3)"
      ],
      "execution_count": 0,
      "outputs": []
    },
    {
      "cell_type": "code",
      "metadata": {
        "id": "dyiRSjBhoi4P",
        "colab_type": "code",
        "outputId": "949ef8b2-ac11-4330-9495-3bd8425c5003",
        "colab": {
          "base_uri": "https://localhost:8080/",
          "height": 850
        }
      },
      "source": [
        "train_images[0]"
      ],
      "execution_count": 0,
      "outputs": [
        {
          "output_type": "execute_result",
          "data": {
            "text/plain": [
              "[array([[[255, 255, 251],\n",
              "         [243, 254, 254],\n",
              "         [253, 250, 255],\n",
              "         ...,\n",
              "         [248, 253, 252],\n",
              "         [253, 253, 253],\n",
              "         [254, 254, 254]],\n",
              " \n",
              "        [[255, 255, 253],\n",
              "         [241, 246, 247],\n",
              "         [251, 252, 253],\n",
              "         ...,\n",
              "         [245, 252, 250],\n",
              "         [226, 226, 226],\n",
              "         [254, 254, 254]],\n",
              " \n",
              "        [[254, 255, 254],\n",
              "         [250, 246, 249],\n",
              "         [251, 255, 252],\n",
              "         ...,\n",
              "         [243, 255, 252],\n",
              "         [224, 224, 224],\n",
              "         [255, 255, 255]],\n",
              " \n",
              "        ...,\n",
              " \n",
              "        [[255, 255, 255],\n",
              "         [243, 243, 243],\n",
              "         [255, 255, 255],\n",
              "         ...,\n",
              "         [255, 255, 255],\n",
              "         [231, 231, 231],\n",
              "         [254, 254, 254]],\n",
              " \n",
              "        [[251, 251, 251],\n",
              "         [245, 245, 245],\n",
              "         [192, 192, 192],\n",
              "         ...,\n",
              "         [188, 188, 188],\n",
              "         [221, 221, 221],\n",
              "         [251, 251, 251]],\n",
              " \n",
              "        [[255, 255, 255],\n",
              "         [251, 251, 251],\n",
              "         [252, 252, 252],\n",
              "         ...,\n",
              "         [249, 249, 249],\n",
              "         [249, 249, 249],\n",
              "         [255, 255, 255]]], dtype=uint8), 0]"
            ]
          },
          "metadata": {
            "tags": []
          },
          "execution_count": 8
        }
      ]
    },
    {
      "cell_type": "markdown",
      "metadata": {
        "id": "c7Ax05PxoSEU",
        "colab_type": "text"
      },
      "source": [
        ""
      ]
    },
    {
      "cell_type": "code",
      "metadata": {
        "id": "1IlUMv9PoStq",
        "colab_type": "code",
        "outputId": "4fb350e5-efdf-4c8a-d6aa-f1dd41f08e1d",
        "colab": {
          "base_uri": "https://localhost:8080/",
          "height": 850
        }
      },
      "source": [
        "type(x_train)\n",
        "x_train.shape\n",
        "x_train[0]"
      ],
      "execution_count": 0,
      "outputs": [
        {
          "output_type": "execute_result",
          "data": {
            "text/plain": [
              "array([[[255, 255, 251],\n",
              "        [243, 254, 254],\n",
              "        [253, 250, 255],\n",
              "        ...,\n",
              "        [248, 253, 252],\n",
              "        [253, 253, 253],\n",
              "        [254, 254, 254]],\n",
              "\n",
              "       [[255, 255, 253],\n",
              "        [241, 246, 247],\n",
              "        [251, 252, 253],\n",
              "        ...,\n",
              "        [245, 252, 250],\n",
              "        [226, 226, 226],\n",
              "        [254, 254, 254]],\n",
              "\n",
              "       [[254, 255, 254],\n",
              "        [250, 246, 249],\n",
              "        [251, 255, 252],\n",
              "        ...,\n",
              "        [243, 255, 252],\n",
              "        [224, 224, 224],\n",
              "        [255, 255, 255]],\n",
              "\n",
              "       ...,\n",
              "\n",
              "       [[255, 255, 255],\n",
              "        [243, 243, 243],\n",
              "        [255, 255, 255],\n",
              "        ...,\n",
              "        [255, 255, 255],\n",
              "        [231, 231, 231],\n",
              "        [254, 254, 254]],\n",
              "\n",
              "       [[251, 251, 251],\n",
              "        [245, 245, 245],\n",
              "        [192, 192, 192],\n",
              "        ...,\n",
              "        [188, 188, 188],\n",
              "        [221, 221, 221],\n",
              "        [251, 251, 251]],\n",
              "\n",
              "       [[255, 255, 255],\n",
              "        [251, 251, 251],\n",
              "        [252, 252, 252],\n",
              "        ...,\n",
              "        [249, 249, 249],\n",
              "        [249, 249, 249],\n",
              "        [255, 255, 255]]], dtype=uint8)"
            ]
          },
          "metadata": {
            "tags": []
          },
          "execution_count": 9
        }
      ]
    },
    {
      "cell_type": "code",
      "metadata": {
        "id": "_C77AIUF2B5k",
        "colab_type": "code",
        "outputId": "2047b854-2f40-4984-dfe3-bbe78c161db7",
        "colab": {
          "base_uri": "https://localhost:8080/",
          "height": 281
        }
      },
      "source": [
        "import matplotlib.pyplot as plt\n",
        "plt.imshow(x_train[50,:,:])\n",
        "plt.title('Ground Truth : {}'.format(y_train[50]))\n",
        "plt.show()\n"
      ],
      "execution_count": 0,
      "outputs": [
        {
          "output_type": "display_data",
          "data": {
            "image/png": "[encoded data removed]",
            "text/plain": [
              "<Figure size 432x288 with 1 Axes>"
            ]
          },
          "metadata": {
            "tags": [],
            "needs_background": "light"
          }
        }
      ]
    },
    {
      "cell_type": "code",
      "metadata": {
        "id": "C6zYDe4y3AN8",
        "colab_type": "code",
        "colab": {}
      },
      "source": [
        "test_images=[]\n",
        "for filename in glob.glob('/content/drive/My Drive/Colab Notebooks/parrot test/*.jpg'): \n",
        "    img_normal = cv2.imread(filename)\n",
        "    output = cv2.resize(img_normal, (50,50))\n",
        "    test_images.append([output,0])"
      ],
      "execution_count": 0,
      "outputs": []
    },
    {
      "cell_type": "code",
      "metadata": {
        "id": "t2Qi0yBR3b01",
        "colab_type": "code",
        "colab": {}
      },
      "source": [
        "for filename in glob.glob('/content/drive/My Drive/Colab Notebooks/test rabbit/*.jpg'): \n",
        "    img_normal = cv2.imread(filename)\n",
        "    #print(im.shape)\n",
        "    #print(type(im.shape))\n",
        "    output = cv2.resize(img_normal, (50,50))\n",
        "    test_images.append([output,1])"
      ],
      "execution_count": 0,
      "outputs": []
    },
    {
      "cell_type": "code",
      "metadata": {
        "id": "s-vveX1y3vzJ",
        "colab_type": "code",
        "colab": {}
      },
      "source": [
        "random.shuffle(test_images)"
      ],
      "execution_count": 0,
      "outputs": []
    },
    {
      "cell_type": "code",
      "metadata": {
        "id": "_FGl7vzE3zq4",
        "colab_type": "code",
        "colab": {}
      },
      "source": [
        "x_test=[]\n",
        "y_test=[]\n",
        "for im,label in test_images:\n",
        "  x_test.append(im)\n",
        "  y_test.append(label)"
      ],
      "execution_count": 0,
      "outputs": []
    },
    {
      "cell_type": "code",
      "metadata": {
        "id": "jOoODJ264Bao",
        "colab_type": "code",
        "colab": {}
      },
      "source": [
        "x_test=np.array(x_test).reshape(-1,50,50,3)"
      ],
      "execution_count": 0,
      "outputs": []
    },
    {
      "cell_type": "code",
      "metadata": {
        "id": "9APCK0tp4UFs",
        "colab_type": "code",
        "colab": {}
      },
      "source": [
        "x_train = x_train.astype('float32')\n",
        "x_test = x_test.astype('float32')\n",
        "x_train = x_train / 255.0\n",
        "x_test = x_test / 255.0"
      ],
      "execution_count": 0,
      "outputs": []
    },
    {
      "cell_type": "code",
      "metadata": {
        "id": "4VTcRk9m4poj",
        "colab_type": "code",
        "colab": {}
      },
      "source": [
        "y_train = np_utils.to_categorical(y_train)\n",
        "y_test = np_utils.to_categorical(y_test)\n",
        "num_classes = y_test.shape[1]"
      ],
      "execution_count": 0,
      "outputs": []
    },
    {
      "cell_type": "code",
      "metadata": {
        "id": "LnQad1Tn41ap",
        "colab_type": "code",
        "outputId": "fd25123e-9ce2-4214-ae5f-4233457f2244",
        "colab": {
          "base_uri": "https://localhost:8080/",
          "height": 122
        }
      },
      "source": [
        "model = Sequential()\n",
        "model.add(Conv2D(256, (3, 3), input_shape=(x_train.shape[1:]), padding='same', activation='relu'))\n",
        "model.add(Dropout(0.5))\n",
        "model.add(Conv2D(256, (3, 3), activation='relu', padding='same'))\n",
        "model.add(MaxPooling2D(pool_size=(2, 2)))\n",
        "model.add(Dropout(0.5))\n",
        "model.add(Flatten())\n",
        "model.add(Dense(512, activation='relu', kernel_constraint=maxnorm(3)))\n",
        "model.add(Dropout(0.3))\n",
        "model.add(Dense(num_classes, activation='softmax'))"
      ],
      "execution_count": 0,
      "outputs": [
        {
          "output_type": "stream",
          "text": [
            "WARNING:tensorflow:From /tensorflow-1.15.2/python3.6/tensorflow_core/python/ops/resource_variable_ops.py:1630: calling BaseResourceVariable.__init__ (from tensorflow.python.ops.resource_variable_ops) with constraint is deprecated and will be removed in a future version.\n",
            "Instructions for updating:\n",
            "If using Keras pass *_constraint arguments to layers.\n",
            "WARNING:tensorflow:From /usr/local/lib/python3.6/dist-packages/keras/backend/tensorflow_backend.py:4070: The name tf.nn.max_pool is deprecated. Please use tf.nn.max_pool2d instead.\n",
            "\n"
          ],
          "name": "stdout"
        }
      ]
    },
    {
      "cell_type": "code",
      "metadata": {
        "id": "SugkVFcd5Bk-",
        "colab_type": "code",
        "colab": {}
      },
      "source": [
        "epochs = 20\n",
        "lrate = 0.001\n",
        "decay = lrate/epochs\n",
        "sgd = Adam(lr=lrate)\n",
        "model.compile(loss='categorical_crossentropy', optimizer=sgd, metrics=['accuracy'])"
      ],
      "execution_count": 0,
      "outputs": []
    },
    {
      "cell_type": "code",
      "metadata": {
        "id": "GHYzTeqy5N1i",
        "colab_type": "code",
        "outputId": "d45f915b-b1cb-41b0-b2bc-7b73e8352f15",
        "colab": {
          "base_uri": "https://localhost:8080/",
          "height": 785
        }
      },
      "source": [
        "model.fit(x_train, y_train, validation_data=(x_test, y_test), epochs=epochs, batch_size=128)"
      ],
      "execution_count": 0,
      "outputs": [
        {
          "output_type": "stream",
          "text": [
            "WARNING:tensorflow:From /usr/local/lib/python3.6/dist-packages/keras/backend/tensorflow_backend.py:422: The name tf.global_variables is deprecated. Please use tf.compat.v1.global_variables instead.\n",
            "\n",
            "Train on 300 samples, validate on 180 samples\n",
            "Epoch 1/20\n",
            "300/300 [==============================] - 8s 26ms/step - loss: 11.5362 - accuracy: 0.5867 - val_loss: 0.6508 - val_accuracy: 0.6667\n",
            "Epoch 2/20\n",
            "300/300 [==============================] - 0s 1ms/step - loss: 1.3030 - accuracy: 0.5367 - val_loss: 0.6956 - val_accuracy: 0.3333\n",
            "Epoch 3/20\n",
            "300/300 [==============================] - 0s 1ms/step - loss: 0.6870 - accuracy: 0.6300 - val_loss: 0.6973 - val_accuracy: 0.3333\n",
            "Epoch 4/20\n",
            "300/300 [==============================] - 0s 1ms/step - loss: 0.6894 - accuracy: 0.6300 - val_loss: 0.6991 - val_accuracy: 0.3333\n",
            "Epoch 5/20\n",
            "300/300 [==============================] - 0s 1ms/step - loss: 0.6875 - accuracy: 0.6333 - val_loss: 0.7017 - val_accuracy: 0.3333\n",
            "Epoch 6/20\n",
            "300/300 [==============================] - 0s 1ms/step - loss: 0.6754 - accuracy: 0.6300 - val_loss: 0.7788 - val_accuracy: 0.3333\n",
            "Epoch 7/20\n",
            "300/300 [==============================] - 0s 1ms/step - loss: 0.6493 - accuracy: 0.6300 - val_loss: 0.7295 - val_accuracy: 0.3333\n",
            "Epoch 8/20\n",
            "300/300 [==============================] - 0s 1ms/step - loss: 0.6568 - accuracy: 0.6300 - val_loss: 0.7589 - val_accuracy: 0.3333\n",
            "Epoch 9/20\n",
            "300/300 [==============================] - 0s 1ms/step - loss: 0.6653 - accuracy: 0.6300 - val_loss: 0.7467 - val_accuracy: 0.3333\n",
            "Epoch 10/20\n",
            "300/300 [==============================] - 0s 1ms/step - loss: 0.6478 - accuracy: 0.6300 - val_loss: 0.7193 - val_accuracy: 0.3333\n",
            "Epoch 11/20\n",
            "300/300 [==============================] - 0s 1ms/step - loss: 0.6356 - accuracy: 0.6467 - val_loss: 0.7303 - val_accuracy: 0.3667\n",
            "Epoch 12/20\n",
            "300/300 [==============================] - 0s 1ms/step - loss: 0.6268 - accuracy: 0.6633 - val_loss: 0.6446 - val_accuracy: 0.7444\n",
            "Epoch 13/20\n",
            "300/300 [==============================] - 0s 1ms/step - loss: 0.5966 - accuracy: 0.7000 - val_loss: 0.7866 - val_accuracy: 0.4222\n",
            "Epoch 14/20\n",
            "300/300 [==============================] - 0s 1ms/step - loss: 0.5586 - accuracy: 0.7167 - val_loss: 0.5868 - val_accuracy: 0.7667\n",
            "Epoch 15/20\n",
            "300/300 [==============================] - 0s 1ms/step - loss: 0.5182 - accuracy: 0.8100 - val_loss: 0.6614 - val_accuracy: 0.6167\n",
            "Epoch 16/20\n",
            "300/300 [==============================] - 0s 1ms/step - loss: 0.4667 - accuracy: 0.7933 - val_loss: 0.4729 - val_accuracy: 0.7611\n",
            "Epoch 17/20\n",
            "300/300 [==============================] - 0s 1ms/step - loss: 0.3989 - accuracy: 0.8533 - val_loss: 0.5910 - val_accuracy: 0.7056\n",
            "Epoch 18/20\n",
            "300/300 [==============================] - 0s 1ms/step - loss: 0.3649 - accuracy: 0.8633 - val_loss: 0.4174 - val_accuracy: 0.7944\n",
            "Epoch 19/20\n",
            "300/300 [==============================] - 0s 1ms/step - loss: 0.3341 - accuracy: 0.8833 - val_loss: 0.4642 - val_accuracy: 0.7889\n",
            "Epoch 20/20\n",
            "300/300 [==============================] - 0s 1ms/step - loss: 0.3109 - accuracy: 0.8867 - val_loss: 0.3970 - val_accuracy: 0.8167\n"
          ],
          "name": "stdout"
        },
        {
          "output_type": "execute_result",
          "data": {
            "text/plain": [
              "<keras.callbacks.callbacks.History at 0x7fa4e3dd3d68>"
            ]
          },
          "metadata": {
            "tags": []
          },
          "execution_count": 20
        }
      ]
    },
    {
      "cell_type": "code",
      "metadata": {
        "id": "KwQkfmYI9sjk",
        "colab_type": "code",
        "colab": {}
      },
      "source": [
        "import pickle\n",
        "with open(\"/content/drive/My Drive/Colab Notebooks/eswar.pk2\",'wb') as file:\n",
        "      pickle.dump(model,file)"
      ],
      "execution_count": 0,
      "outputs": []
    },
    {
      "cell_type": "code",
      "metadata": {
        "id": "PLO8JfNiAPxq",
        "colab_type": "code",
        "colab": {}
      },
      "source": [
        "x=model.predict_classes(x_train[[50],:])"
      ],
      "execution_count": 0,
      "outputs": []
    },
    {
      "cell_type": "code",
      "metadata": {
        "id": "OcN4HBInCddD",
        "colab_type": "code",
        "outputId": "a69b9e59-7e86-4425-8fc0-50b546cda93b",
        "colab": {
          "base_uri": "https://localhost:8080/",
          "height": 34
        }
      },
      "source": [
        "print(x[0])"
      ],
      "execution_count": 0,
      "outputs": [
        {
          "output_type": "stream",
          "text": [
            "0\n"
          ],
          "name": "stdout"
        }
      ]
    },
    {
      "cell_type": "code",
      "metadata": {
        "id": "OWQpndMBKauU",
        "colab_type": "code",
        "colab": {}
      },
      "source": [
        ""
      ],
      "execution_count": 0,
      "outputs": []
    }
  ]
}